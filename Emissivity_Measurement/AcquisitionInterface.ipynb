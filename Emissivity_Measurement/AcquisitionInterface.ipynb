{
 "cells": [
  {
   "cell_type": "code",
   "execution_count": 3,
   "metadata": {},
   "outputs": [
    {
     "output_type": "stream",
     "name": "stdout",
     "text": [
      "3 2328 3104 64 32\n"
     ]
    }
   ],
   "source": [
    "def ADCDecode(message):\n",
    "    try:\n",
    "        rawmsg = int(message.hex(), 16)\n",
    "        #print(message.hex())\n",
    "    except ValueError:\n",
    "        return 0,0,0,0,0\n",
    "    else:\n",
    "        #print(hex(rawmsg))\n",
    "        msgIndex = (rawmsg >> 8*8) & 0xFF\n",
    "        ADC2 = (rawmsg >> 8*6) & 0xFFFF\n",
    "        ADC1 = (rawmsg >> 8*4) & 0xFFFF\n",
    "        temperature1 = (rawmsg >> 20) & 0xFFF\n",
    "        temperature2 = (rawmsg >> 8) & 0xFFF\n",
    "    return msgIndex, ADC1, ADC2, temperature1, temperature2\n",
    "\n",
    "def ADCConvert(ADC1, ADC2):\n",
    "    Vref = 2.5\n",
    "    ADCmax = 0xFFF0\n",
    "    \n",
    "    V1 = (2 * ADC1 - ADCmax) * Vref /ADCmax\n",
    "    V2 = -(2 * ADC2 - ADCmax) * Vref /ADCmax\n",
    "    return V1, V2\n",
    "\n",
    "raw = b'\\x03\\x0c \\t\\x18\\x04\\x00 \\n'\n",
    "msgIndex, ADC1, ADC2, temperature1, temperature2 = ADCDecode(raw)\n",
    "print(msgIndex, ADC1, ADC2, temperature1, temperature2)\n",
    "\n",
    "    #print(msgIndex)\n",
    "    #print(\"ADC1\", hex(ADC1))\n",
    "    #print(\"ADC2\", hex(ADC2))\n",
    "    #print(\"Temp1\", hex(temperature1))\n",
    "    #print(\"Temp2\", hex(temperature2))"
   ]
  },
  {
   "cell_type": "code",
   "execution_count": 10,
   "metadata": {},
   "outputs": [],
   "source": [
    "# got this Readline from https://github.com/pyserial/pyserial/issues/216#issuecomment-369414522, so i guess it works faster??\n",
    "class ReadLine:\n",
    "    def __init__(self, s):\n",
    "        self.buf = bytearray()\n",
    "        self.s = s\n",
    "\n",
    "    def readline(self):\n",
    "        i = self.buf.find(b\"\\n\")\n",
    "        if i >= 0:\n",
    "            r = self.buf[:i+1]\n",
    "            self.buf = self.buf[i+1:]\n",
    "            return r\n",
    "        while True:\n",
    "            i = max(1, min(2048, self.s.in_waiting))\n",
    "            data = self.s.read(i)\n",
    "            i = data.find(b\"\\n\")\n",
    "            if i >= 0:\n",
    "                r = self.buf + data[:i+1]\n",
    "                self.buf[0:] = data[i+1:]\n",
    "                return r\n",
    "            else:\n",
    "                self.buf.extend(data)\n",
    "\n",
    "def setADCRate(ADCRate):\n",
    "    cmd = \"R\"\n",
    "    cmd += str(ADCRate)\n",
    "    bytecmd = bytearray(cmd.encode())\n",
    "    ser.write(bytecmd)\n",
    "    print(ser.readline().decode())\n",
    "\n",
    "def setVoffset(channel, voltage):\n",
    "    cmd = \"O\"\n",
    "    cmd += str(channel)\n",
    "    cmd += \",\"\n",
    "    cmd += str(int(voltage)*1000)\n",
    "    bytecmd = bytearray(cmd.encode())\n",
    "    ser.write(bytecmd)\n",
    "    print(ser.readline().decode())\n",
    "\n",
    "def measureR0(current):\n",
    "    cmd = \"M1,\"\n",
    "    cmd += str(current)\n",
    "    bytecmd = bytearray(cmd.encode())\n",
    "    ser.write(bytecmd)\n",
    "    print(ser.readline().decode())\n",
    "\n",
    "def stopMeasureR0():\n",
    "    cmd = \"M0\"\n",
    "    bytecmd = bytearray(cmd.encode())\n",
    "    ser.write(bytecmd)\n",
    "    print(ser.readline().decode())\n"
   ]
  },
  {
   "cell_type": "code",
   "execution_count": 15,
   "metadata": {
    "tags": []
   },
   "outputs": [
    {
     "output_type": "stream",
     "name": "stdout",
     "text": [
      "Using serial port COM5 at 1152000 baud\nError: module 'serial' has no attribute 'Serial'\n"
     ]
    },
    {
     "output_type": "error",
     "ename": "AttributeError",
     "evalue": "module 'serial' has no attribute 'Serial'",
     "traceback": [
      "\u001b[1;31m---------------------------------------------------------------------------\u001b[0m",
      "\u001b[1;31mAttributeError\u001b[0m                            Traceback (most recent call last)",
      "\u001b[1;32m~\\AppData\\Local\\Temp/ipykernel_8800/2668699126.py\u001b[0m in \u001b[0;36m<module>\u001b[1;34m\u001b[0m\n\u001b[0;32m     14\u001b[0m \u001b[0mprint\u001b[0m\u001b[1;33m(\u001b[0m\u001b[1;34m\"Using serial port\"\u001b[0m\u001b[1;33m,\u001b[0m\u001b[0mCOMPort\u001b[0m\u001b[1;33m,\u001b[0m \u001b[1;34m\"at\"\u001b[0m\u001b[1;33m,\u001b[0m\u001b[0mserialBaudRate\u001b[0m\u001b[1;33m,\u001b[0m \u001b[1;34m\"baud\"\u001b[0m \u001b[1;33m)\u001b[0m\u001b[1;33m\u001b[0m\u001b[1;33m\u001b[0m\u001b[0m\n\u001b[0;32m     15\u001b[0m \u001b[1;32mtry\u001b[0m\u001b[1;33m:\u001b[0m\u001b[1;33m\u001b[0m\u001b[1;33m\u001b[0m\u001b[0m\n\u001b[1;32m---> 16\u001b[1;33m     \u001b[0mser\u001b[0m \u001b[1;33m=\u001b[0m \u001b[0mserial\u001b[0m\u001b[1;33m.\u001b[0m\u001b[0mSerial\u001b[0m\u001b[1;33m(\u001b[0m\u001b[0mCOMPort\u001b[0m\u001b[1;33m,\u001b[0m \u001b[0mbaudrate\u001b[0m\u001b[1;33m=\u001b[0m\u001b[0mserialBaudRate\u001b[0m\u001b[1;33m,\u001b[0m \u001b[0mbytesize\u001b[0m\u001b[1;33m=\u001b[0m\u001b[1;36m8\u001b[0m\u001b[1;33m,\u001b[0m \u001b[0mparity\u001b[0m\u001b[1;33m=\u001b[0m\u001b[1;34m'N'\u001b[0m\u001b[1;33m,\u001b[0m \u001b[0mstopbits\u001b[0m\u001b[1;33m=\u001b[0m\u001b[1;36m1\u001b[0m\u001b[1;33m,\u001b[0m \u001b[0mtimeout\u001b[0m\u001b[1;33m=\u001b[0m\u001b[1;36m1\u001b[0m\u001b[1;33m)\u001b[0m\u001b[1;33m\u001b[0m\u001b[1;33m\u001b[0m\u001b[0m\n\u001b[0m\u001b[0;32m     17\u001b[0m     \u001b[0mprint\u001b[0m\u001b[1;33m(\u001b[0m\u001b[1;34m\"Opened\"\u001b[0m\u001b[1;33m)\u001b[0m\u001b[1;33m\u001b[0m\u001b[1;33m\u001b[0m\u001b[0m\n\u001b[0;32m     18\u001b[0m \u001b[1;32mexcept\u001b[0m \u001b[0mException\u001b[0m \u001b[1;32mas\u001b[0m \u001b[0merror\u001b[0m\u001b[1;33m:\u001b[0m\u001b[1;33m\u001b[0m\u001b[1;33m\u001b[0m\u001b[0m\n",
      "\u001b[1;31mAttributeError\u001b[0m: module 'serial' has no attribute 'Serial'"
     ]
    }
   ],
   "source": [
    "import serial\n",
    "import serial.tools.list_ports\n",
    "import time\n",
    "\n",
    "\n",
    "#print(\"Available ports:\")\n",
    "#print([comport.device for comport in serial.tools.list_ports.comports()])\n",
    "\n",
    "COMPort = 'COM5'\n",
    "#serialBaudRate = 921600\n",
    "serialBaudRate = 1152000\n",
    "serialInterCharTimeout = 100e-3 # 100us \n",
    "\n",
    "print(\"Using serial port\",COMPort, \"at\",serialBaudRate, \"baud\" )\n",
    "try:\n",
    "    ser = serial.Serial(COMPort, baudrate=serialBaudRate, bytesize=8, parity='N', stopbits=1, timeout=1)\n",
    "    print(\"Opened\")\n",
    "except Exception as error:\n",
    "    print(\"Error:\", error)\n",
    "    raise\n",
    "\n",
    "ser.flushInput()\n",
    "ser.flushOutput()\n",
    "rl = ReadLine(ser)\n",
    "\n",
    "setADCRate(1000)\n",
    "# Start ADC capture\n",
    "#ser.write(b'S')\n",
    "\n",
    "\n",
    "\n",
    "# Get ADC zero\n",
    "\n",
    "ser.write(b'A')\n",
    "Vzero = 0\n",
    "Izero = 0\n",
    "for i in range(20):\n",
    "    message = ser.read(9)\n",
    "    msgIndex, ADC1, ADC2, temperature1, temperature2 = ADCDecode(message)\n",
    "    #print(msgIndex, ADC1, ADC2, temperature1, temperature2)\n",
    "    V, I = ADCConvert(ADC1, ADC2)\n",
    "    Vzero += V\n",
    "    Izero += I\n",
    "    print (V,I)\n",
    "ser.write(b's')\n",
    "\n",
    "Vzero /= 20\n",
    "Izero /= 20\n",
    "print (\"Vzero\",Vzero,\"Izero\",Izero)\n",
    "\n",
    "time.sleep(1)\n",
    "\n",
    "ser.flushInput()\n",
    "ser.flushOutput()\n",
    "\n",
    "# Start R0 at 100mA\n",
    "ser.write(b'M1,200')\n",
    "\n",
    "#print(rl.readline().decode())\n",
    "print(ser.readline().decode())\n",
    "for i in range(15):\n",
    "    #print(rl.readline().decode())\n",
    "    #message = ADCDecode(ser.readline())\n",
    "    #message = ser.readline()#.decode()\n",
    "    message = ser.read(9)\n",
    "    #print(message)\n",
    "    msgIndex, ADC1, ADC2, temperature1, temperature2 = ADCDecode(message)\n",
    "    print(msgIndex, ADC1, ADC2, temperature1, temperature2)\n",
    "    V, I = ADCConvert(ADC1, ADC2)\n",
    "    print (\"V:\", round(V-Vzero, 4), \"I:\", round(I-Izero, 4), \"R0:\", round((V-Vzero)/(I-Izero), 3) )\n",
    "    print()\n",
    "    #print(V/I)\n",
    "\n",
    "# Stop R0 measurement\n",
    "ser.write(b'M0')\n",
    "\n",
    "# Stop ADC capture\n",
    "ser.write(b's')\n",
    "ser.close()\n",
    "print(\"Stopped\")"
   ]
  },
  {
   "cell_type": "code",
   "execution_count": null,
   "metadata": {},
   "outputs": [],
   "source": []
  }
 ],
 "metadata": {
  "interpreter": {
   "hash": "cb3250c071ef661baadeca864cf803ca60dc50c3e6a229a4918bef3b65e09496"
  },
  "kernelspec": {
   "name": "python3",
   "display_name": "Python 3.9.6 64-bit"
  },
  "language_info": {
   "codemirror_mode": {
    "name": "ipython",
    "version": 3
   },
   "file_extension": ".py",
   "mimetype": "text/x-python",
   "name": "python",
   "nbconvert_exporter": "python",
   "pygments_lexer": "ipython3",
   "version": "3.9.6"
  },
  "metadata": {
   "interpreter": {
    "hash": "a56fa12777f49fcfe6fab21526a6d6ad98fb3879e66ce5571db844f572e9a600"
   }
  },
  "orig_nbformat": 2
 },
 "nbformat": 4,
 "nbformat_minor": 2
}